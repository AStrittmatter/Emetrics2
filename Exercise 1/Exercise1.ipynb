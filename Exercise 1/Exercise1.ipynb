{
 "cells": [
  {
   "cell_type": "markdown",
   "metadata": {},
   "source": [
    "# **Econometrics 2**"
   ]
  },
  {
   "cell_type": "markdown",
   "metadata": {},
   "source": [
    "# PC-Lab Session 1: Simulation Exercise"
   ]
  },
  {
   "cell_type": "markdown",
   "metadata": {},
   "source": [
    "**Author:** [Anthony Strittmatter](http://www.anthonystrittmatter.com)"
   ]
  },
  {
   "cell_type": "markdown",
   "metadata": {},
   "source": [
    "We investigate the finite sample behavior of different estimators for the mean. Therefore, we conduct a simulation study (Monte Carlo study). We randomly generate a binary variable $x$ for a sample of size $N$, with $x \\in \\{0,1\\}$ and $E[x]=Pr(x=1)=0.25$. To lean about the finite sample behavior of estimators we repeat this DGP 2,000 times and estimate in each repetition the mean of $x$. This gives us information about the finite sample distribution of the estimator. "
   ]
  },
  {
   "cell_type": "markdown",
   "metadata": {},
   "source": [
    "## Define the Input Factors"
   ]
  },
  {
   "cell_type": "code",
   "execution_count": null,
   "metadata": {},
   "outputs": [],
   "source": [
    "############## Define Input Factors ##############\n",
    "\n",
    "N1 <- 20 # sample size\n",
    "rep <- 2000 # replications\n",
    "\n",
    "print('Input factors defined.')"
   ]
  },
  {
   "cell_type": "markdown",
   "metadata": {},
   "source": [
    "## Data Generating Process (DGP)"
   ]
  },
  {
   "cell_type": "code",
   "execution_count": null,
   "metadata": {},
   "outputs": [],
   "source": [
    "############## Data Generating Process (DGP) ##############\n",
    "set.seed(1001)\n",
    "\n",
    "# Generate matrix of integers\n",
    "x1 <- matrix(floor(runif(rep*N1 ,min = 0.25, max = 1.25)), nrow = N1, ncol = rep)\n",
    "# Rows correspond to different observations\n",
    "# Columns corresponds to different samples (replications of the DGP)\n",
    "# Example: x could be a dummy for females\n",
    "\n",
    "print('Data is generated.')"
   ]
  },
  {
   "cell_type": "markdown",
   "metadata": {},
   "source": [
    "## Estimation of Sample Mean"
   ]
  },
  {
   "cell_type": "markdown",
   "metadata": {},
   "source": [
    "We calulate the sample mean:\n",
    "\\begin{equation*}\n",
    "W_1 = \\frac{1}{N} \\sum_{i=1}^{N} Y_i.\n",
    "\\end{equation*}"
   ]
  },
  {
   "cell_type": "code",
   "execution_count": null,
   "metadata": {},
   "outputs": [],
   "source": [
    "############## Estimation of Sample Mean ##############\n",
    "\n",
    "# Generate vector to store the results\n",
    "shares <- matrix(NA, nrow = rep, ncol = 10)\n",
    "\n",
    "# Make a loop\n",
    "for (i in c(1:rep)) {\n",
    "   shares[i,1] <- mean(x1[,i]) # calculate mean for each replication\n",
    "}\n",
    "\n",
    "print('Means are estimated')"
   ]
  },
  {
   "cell_type": "markdown",
   "metadata": {},
   "source": [
    "## Visualization of Results"
   ]
  },
  {
   "cell_type": "code",
   "execution_count": null,
   "metadata": {},
   "outputs": [],
   "source": [
    "############## Visualization of Results ##############\n",
    "\n",
    "# Histogram\n",
    "hist(shares[,1])\n",
    "abline(v=.25,col=\"red\")"
   ]
  },
  {
   "cell_type": "markdown",
   "metadata": {},
   "source": [
    "# Student Exercises:"
   ]
  },
  {
   "cell_type": "markdown",
   "metadata": {},
   "source": [
    "1. Calculate the performance measures bias, median bias, standard deviation, and absolute bias in the window below."
   ]
  },
  {
   "cell_type": "code",
   "execution_count": null,
   "metadata": {},
   "outputs": [],
   "source": [
    "############## Performance Measures ##############\n",
    "\n",
    "\n",
    "\n",
    "\n",
    "\n",
    "\n",
    "\n",
    "##################################################"
   ]
  },
  {
   "cell_type": "markdown",
   "metadata": {},
   "source": [
    "2. How does the finite sample performance of the estimators change when the sample size is increased?\n",
    "3. Add to the code above the following three mean estimators:\n",
    "    \\begin{align*}\n",
    "    W & = \\frac{1}{3} (Y_1 + Y_2 + Y_3), \\\\\n",
    "    W & = \\frac{1}{N-1} \\sum_{i=1}^{N} Y_i, \\mbox{ and} \\\\\n",
    "    W & = \\frac{1}{\\sqrt{N}} \\sum_{i=1}^{N} Y_i.\n",
    "    \\end{align*}\n",
    "    How good is the finite sample performace of these estimators?\n",
    "    \n",
    "4. Now consider the estimators\n",
    "    \\begin{equation*}\n",
    "       W  = \\frac{1}{\\sqrt{N}} \\sum_{i=1}^{N} (Y_i - \\mu).\n",
    "    \\end{equation*}\n",
    "    How does the convergence behavior of this estimator differ from the previous estimators?"
   ]
  },
  {
   "cell_type": "code",
   "execution_count": null,
   "metadata": {},
   "outputs": [],
   "source": []
  }
 ],
 "metadata": {
  "kernelspec": {
   "display_name": "R",
   "language": "R",
   "name": "ir"
  },
  "language_info": {
   "codemirror_mode": "r",
   "file_extension": ".r",
   "mimetype": "text/x-r-source",
   "name": "R",
   "pygments_lexer": "r",
   "version": "3.4.1"
  }
 },
 "nbformat": 4,
 "nbformat_minor": 2
}
