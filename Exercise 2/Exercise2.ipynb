{
 "cells": [
  {
   "cell_type": "markdown",
   "metadata": {},
   "source": [
    "# **Econometrics 2**"
   ]
  },
  {
   "cell_type": "markdown",
   "metadata": {},
   "source": [
    "# PC-Lab Session 2: Asymptotic Variance"
   ]
  },
  {
   "cell_type": "markdown",
   "metadata": {},
   "source": [
    "**Author:** [Anthony Strittmatter](http://www.anthonystrittmatter.com)"
   ]
  },
  {
   "cell_type": "markdown",
   "metadata": {},
   "source": [
    "We estimate the OLS coefficients and asymptotic variance using matrix algebra. In the first place, we have to load some packages. "
   ]
  },
  {
   "cell_type": "code",
   "execution_count": 2,
   "metadata": {},
   "outputs": [
    {
     "name": "stdout",
     "output_type": "stream",
     "text": [
      "[1] \"All packages successfully installed and loaded.\"\n"
     ]
    }
   ],
   "source": [
    "########################  Load Packages  ########################\n",
    "\n",
    "# List of required packages\n",
    "pkgs <- c('psych', 'ggplot2', 'dplyr', 'sampling')\n",
    "\n",
    "# Load packages\n",
    "for(pkg in pkgs){\n",
    "    library(pkg, character.only = TRUE)\n",
    "}\n",
    "\n",
    "print('All packages successfully installed and loaded.')"
   ]
  },
  {
   "cell_type": "markdown",
   "metadata": {},
   "source": [
    "## Data Generating Process (DGP)"
   ]
  },
  {
   "cell_type": "markdown",
   "metadata": {},
   "source": [
    "We generate an artificial dataset ($N=200$). We consider the linear model,\n",
    "\\begin{equation*}\n",
    "y= \\beta_0 + \\beta_1 x_1 + u,\n",
    "\\end{equation*}\n",
    "with $\\beta_0=0$, $\\beta_1=1$, and $x_1,u \\sim N(0,1)$."
   ]
  },
  {
   "cell_type": "code",
   "execution_count": 3,
   "metadata": {},
   "outputs": [
    {
     "name": "stdout",
     "output_type": "stream",
     "text": [
      "[1] \"Data is generated.\"\n"
     ]
    }
   ],
   "source": [
    "############## Data Generating Process (DGP) ##############\n",
    "set.seed(1001)\n",
    "\n",
    "N <- 200 # sample size\n",
    "\n",
    "# Generate variables\n",
    "x0 <- matrix(1, nrow = N, ncol = 1) # intercept (vector of one'S)\n",
    "x1 <- matrix(rnorm(N), nrow = N, ncol = 1) # standard normal distributed covariate\n",
    "X <- cbind(x0,x1) # matrix of covariates\n",
    "u <- matrix(rnorm(N), nrow = N, ncol = 1) # standard normal distributed error term\n",
    "y <- x1 + u # outcome variable\n",
    "# the true effect of x1 on y is 1\n",
    "# the true intercept is 0\n",
    "\n",
    "dataset <- as.data.frame(cbind(y,x1)) # dataframe will be needed later\n",
    "\n",
    "print('Data is generated.')"
   ]
  },
  {
   "cell_type": "markdown",
   "metadata": {},
   "source": [
    "## Descriptive Statistics"
   ]
  },
  {
   "cell_type": "code",
   "execution_count": 4,
   "metadata": {},
   "outputs": [
    {
     "data": {
      "text/html": [
       "<table>\n",
       "<thead><tr><th></th><th scope=col>vars</th><th scope=col>n</th><th scope=col>mean</th><th scope=col>sd</th><th scope=col>median</th><th scope=col>trimmed</th><th scope=col>mad</th><th scope=col>min</th><th scope=col>max</th><th scope=col>range</th><th scope=col>skew</th><th scope=col>kurtosis</th><th scope=col>se</th></tr></thead>\n",
       "<tbody>\n",
       "\t<tr><th scope=row>V1</th><td>1     </td><td>200   </td><td>0.022 </td><td>1.446 </td><td>0.038 </td><td> 0.005</td><td>1.568 </td><td>-3.505</td><td>4.697 </td><td>8.202 </td><td>0.180 </td><td>-0.140</td><td>0.102 </td></tr>\n",
       "\t<tr><th scope=row>V2</th><td>2     </td><td>200   </td><td>0.003 </td><td>0.986 </td><td>0.047 </td><td>-0.034</td><td>0.996 </td><td>-2.507</td><td>3.385 </td><td>5.892 </td><td>0.321 </td><td> 0.117</td><td>0.070 </td></tr>\n",
       "</tbody>\n",
       "</table>\n"
      ],
      "text/latex": [
       "\\begin{tabular}{r|lllllllllllll}\n",
       "  & vars & n & mean & sd & median & trimmed & mad & min & max & range & skew & kurtosis & se\\\\\n",
       "\\hline\n",
       "\tV1 & 1      & 200    & 0.022  & 1.446  & 0.038  &  0.005 & 1.568  & -3.505 & 4.697  & 8.202  & 0.180  & -0.140 & 0.102 \\\\\n",
       "\tV2 & 2      & 200    & 0.003  & 0.986  & 0.047  & -0.034 & 0.996  & -2.507 & 3.385  & 5.892  & 0.321  &  0.117 & 0.070 \\\\\n",
       "\\end{tabular}\n"
      ],
      "text/markdown": [
       "\n",
       "| <!--/--> | vars | n | mean | sd | median | trimmed | mad | min | max | range | skew | kurtosis | se |\n",
       "|---|---|---|---|---|---|---|---|---|---|---|---|---|---|\n",
       "| V1 | 1      | 200    | 0.022  | 1.446  | 0.038  |  0.005 | 1.568  | -3.505 | 4.697  | 8.202  | 0.180  | -0.140 | 0.102  |\n",
       "| V2 | 2      | 200    | 0.003  | 0.986  | 0.047  | -0.034 | 0.996  | -2.507 | 3.385  | 5.892  | 0.321  |  0.117 | 0.070  |\n",
       "\n"
      ],
      "text/plain": [
       "   vars n   mean  sd    median trimmed mad   min    max   range skew  kurtosis\n",
       "V1 1    200 0.022 1.446 0.038   0.005  1.568 -3.505 4.697 8.202 0.180 -0.140  \n",
       "V2 2    200 0.003 0.986 0.047  -0.034  0.996 -2.507 3.385 5.892 0.321  0.117  \n",
       "   se   \n",
       "V1 0.102\n",
       "V2 0.070"
      ]
     },
     "metadata": {},
     "output_type": "display_data"
    }
   ],
   "source": [
    "############## Descriptive Statistics ##############\n",
    "\n",
    "round(describe(dataset), digits=3)"
   ]
  },
  {
   "cell_type": "markdown",
   "metadata": {},
   "source": [
    "## Scatter Plot"
   ]
  },
  {
   "cell_type": "code",
   "execution_count": 5,
   "metadata": {},
   "outputs": [
    {
     "data": {
      "image/png": "[encoded data removed]",
      "text/plain": [
       "plot without title"
      ]
     },
     "metadata": {},
     "output_type": "display_data"
    }
   ],
   "source": [
    "############## Scatter Plot ##############\n",
    "\n",
    "dataset %>%\n",
    " ggplot(aes(x = x1, y = y)) +\n",
    " geom_point(colour = \"red\") "
   ]
  },
  {
   "cell_type": "markdown",
   "metadata": {},
   "source": [
    "## OLS Results Using Off-the-Shelf Code"
   ]
  },
  {
   "cell_type": "code",
   "execution_count": 6,
   "metadata": {},
   "outputs": [
    {
     "data": {
      "text/plain": [
       "\n",
       "Call:\n",
       "lm(formula = y ~ x1, data = dataset)\n",
       "\n",
       "Residuals:\n",
       "    Min      1Q  Median      3Q     Max \n",
       "-2.5646 -0.7075 -0.0761  0.6399  3.6352 \n",
       "\n",
       "Coefficients:\n",
       "            Estimate Std. Error t value Pr(>|t|)    \n",
       "(Intercept)  0.01910    0.07315   0.261    0.794    \n",
       "x1           1.02664    0.07434  13.810   <2e-16 ***\n",
       "---\n",
       "Signif. codes:  0 '***' 0.001 '**' 0.01 '*' 0.05 '.' 0.1 ' ' 1\n",
       "\n",
       "Residual standard error: 1.034 on 198 degrees of freedom\n",
       "Multiple R-squared:  0.4906,\tAdjusted R-squared:  0.4881 \n",
       "F-statistic: 190.7 on 1 and 198 DF,  p-value: < 2.2e-16\n"
      ]
     },
     "metadata": {},
     "output_type": "display_data"
    }
   ],
   "source": [
    "############## Off-the-Shelf OLS estimator ##############\n",
    "\n",
    "# data has to be in a dataframe (and not matrix) to use the lm command\n",
    "lmodel <- lm(y ~ x1, data = dataset)\n",
    "summary(lmodel)"
   ]
  },
  {
   "cell_type": "markdown",
   "metadata": {},
   "source": [
    "# Students Exercises"
   ]
  },
  {
   "cell_type": "markdown",
   "metadata": {},
   "source": [
    "1. Use matrix algebra to calulate the OLS coefficients:\n",
    "\\begin{equation*}\n",
    "\\hat{\\beta} = (X'X)^{-1} X'Y.\n",
    "\\end{equation*}\n",
    "\n",
    "\n"
   ]
  },
  {
   "cell_type": "markdown",
   "metadata": {},
   "source": [
    "The following R commands might be useful:\n",
    "- *%*%*: matrix multiplication\n",
    "- *solve()*: calculates the inverse\n",
    "- *t()*: calculates the transposed\n",
    "- *diag(a)*: builds an identity matrix of dimension a\n",
    "- *for (i in c(1:10)) { }*: loops i in { } from 1 to 10"
   ]
  },
  {
   "cell_type": "code",
   "execution_count": null,
   "metadata": {},
   "outputs": [],
   "source": [
    "############## Put your code here ##############\n",
    "\n",
    "# Apply OLS formula\n",
    "\n",
    "\n",
    "#################################################"
   ]
  },
  {
   "cell_type": "markdown",
   "metadata": {},
   "source": [
    "2. Calulate the variance and standard errors of $\\hat{\\beta}_0$ and $\\hat{\\beta}_1$. Use the homoskedastic variance formula\n",
    "\\begin{equation*}\n",
    "Var(\\hat{\\beta}) = \\sigma^2 (X'X)^{-1},\n",
    "\\end{equation*}\n",
    "with $\\displaystyle \\sigma^2 = \\frac{1}{N-2} \\sum_{i=1}^{N} \\hat{u}_i^2$."
   ]
  },
  {
   "cell_type": "code",
   "execution_count": null,
   "metadata": {},
   "outputs": [],
   "source": [
    "############## Put your code here ##############\n",
    "\n",
    "# Calulate the error term\n",
    "\n",
    "# Calculate Sigma-squared with degrees-of-freedom adjustment\n",
    "\n",
    "# Inverse design matrix\n",
    "\n",
    "#################################################"
   ]
  },
  {
   "cell_type": "markdown",
   "metadata": {},
   "source": [
    "3. Calulate the variance and standard errors of $\\hat{\\beta}_0$ and $\\hat{\\beta}_1$, using the heteroskedasticity robust Eicker–Huber–White variance formula\n",
    "\\begin{equation*}\n",
    "Var(\\hat{\\beta}) = (X'X)^{-1} (X' diag(u_1^2, ..., u_N^2) X )(X'X)^{-1}.\n",
    "\\end{equation*}\n",
    "How would you make the degree-of-freedom adjustment?\n"
   ]
  },
  {
   "cell_type": "code",
   "execution_count": null,
   "metadata": {},
   "outputs": [],
   "source": [
    "############## Put your code here ##############\n",
    "\n",
    "# Calulate diagonal matrix of squared error (using a loop)\n",
    "\n",
    "\n",
    "# Variance calulation\n",
    "\n",
    "#################################################"
   ]
  },
  {
   "cell_type": "markdown",
   "metadata": {},
   "source": [
    "4. Bootstrap the variance and standard errors of $\\hat{\\beta}_0$ and $\\hat{\\beta}_1$ (with 9,999 bootstrap replications)."
   ]
  },
  {
   "cell_type": "markdown",
   "metadata": {},
   "source": [
    "Helpful R commands:\n",
    "- *srswr()*: draws random sample with replacement \n",
    "- *rep(x,times=a)*: repeats a times observations in x "
   ]
  },
  {
   "cell_type": "code",
   "execution_count": null,
   "metadata": {},
   "outputs": [],
   "source": [
    "############## Put your code here ##############\n",
    "set.seed(1001)\n",
    "rep = 9999\n",
    "\n",
    "# Loop with boostrap resamples\n",
    "\n",
    "#################################################"
   ]
  },
  {
   "cell_type": "code",
   "execution_count": null,
   "metadata": {},
   "outputs": [],
   "source": []
  }
 ],
 "metadata": {
  "kernelspec": {
   "display_name": "R",
   "language": "R",
   "name": "ir"
  },
  "language_info": {
   "codemirror_mode": "r",
   "file_extension": ".r",
   "mimetype": "text/x-r-source",
   "name": "R",
   "pygments_lexer": "r",
   "version": "3.5.1"
  }
 },
 "nbformat": 4,
 "nbformat_minor": 2
}
