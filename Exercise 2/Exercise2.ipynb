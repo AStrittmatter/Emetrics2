{
 "cells": [
  {
   "cell_type": "markdown",
   "metadata": {},
   "source": [
    "# **Econometrics 2**"
   ]
  },
  {
   "cell_type": "markdown",
   "metadata": {},
   "source": [
    "# PC-Lab Session 2: Asymptotic Variance"
   ]
  },
  {
   "cell_type": "markdown",
   "metadata": {},
   "source": [
    "**Author:** [Anthony Strittmatter](http://www.anthonystrittmatter.com)"
   ]
  },
  {
   "cell_type": "markdown",
   "metadata": {},
   "source": [
    "We estimate the OLS coefficients and asymptotic variance using matrix algebra. In the first place, we have to load some packages. "
   ]
  },
  {
   "cell_type": "code",
   "execution_count": null,
   "metadata": {},
   "outputs": [],
   "source": [
    "########################  Load Packages  ########################\n",
    "\n",
    "# List of required packages\n",
    "pkgs <- c('psych', 'ggplot2', 'dplyr')\n",
    "\n",
    "# Load packages\n",
    "for(pkg in pkgs){\n",
    "    library(pkg, character.only = TRUE)\n",
    "}\n",
    "\n",
    "print('All packages successfully installed and loaded.')"
   ]
  },
  {
   "cell_type": "markdown",
   "metadata": {},
   "source": [
    "## Data Generating Process (DGP)"
   ]
  },
  {
   "cell_type": "markdown",
   "metadata": {},
   "source": [
    "We generate an artificial dataset ($N=200$). We consider the linear model,\n",
    "\\begin{equation*}\n",
    "y= \\beta_0 + \\beta_1 x_1 + u,\n",
    "\\end{equation*}\n",
    "with $\\beta_0=0$, $\\beta_1=1$, and $x_1,u \\sim N(0,1)$."
   ]
  },
  {
   "cell_type": "code",
   "execution_count": null,
   "metadata": {},
   "outputs": [],
   "source": [
    "############## Data Generating Process (DGP) ##############\n",
    "set.seed(1001)\n",
    "\n",
    "N <- 200 # sample size\n",
    "\n",
    "# Generate variables\n",
    "x0 <- matrix(1, nrow = N, ncol = 1) # intercept (vector of one'S)\n",
    "x1 <- matrix(rnorm(N), nrow = N, ncol = 1) # standard normal distributed covariate\n",
    "X <- cbind(x0,x1) # matrix of covariates\n",
    "u <- matrix(rnorm(N), nrow = N, ncol = 1) # standard normal distributed error term\n",
    "y <- x1 + u # outcome variable\n",
    "# the true effect of x1 on y is 1\n",
    "# the true intercept is 0\n",
    "\n",
    "dataset <- as.data.frame(cbind(y,x1)) # dataframe will be needed later\n",
    "\n",
    "print('Data is generated.')"
   ]
  },
  {
   "cell_type": "markdown",
   "metadata": {},
   "source": [
    "## Descriptive Statistics"
   ]
  },
  {
   "cell_type": "code",
   "execution_count": null,
   "metadata": {},
   "outputs": [],
   "source": [
    "############## Descriptive Statistics ##############\n",
    "\n",
    "round(describe(dataset), digits=3)"
   ]
  },
  {
   "cell_type": "markdown",
   "metadata": {},
   "source": [
    "## Scatter Plot"
   ]
  },
  {
   "cell_type": "code",
   "execution_count": null,
   "metadata": {},
   "outputs": [],
   "source": [
    "############## Scatter Plot ##############\n",
    "\n",
    "dataset %>%\n",
    " ggplot(aes(x = x1, y = y)) +\n",
    " geom_point(colour = \"red\") "
   ]
  },
  {
   "cell_type": "markdown",
   "metadata": {},
   "source": [
    "## OLS Results Uning Off-the-Shelf Code"
   ]
  },
  {
   "cell_type": "code",
   "execution_count": null,
   "metadata": {},
   "outputs": [],
   "source": [
    "############## Off-the-Shelf OLS estimator ##############\n",
    "\n",
    "# data has to be in a dataframe (and not matrix) to use the lm command\n",
    "lmodel <- lm(y ~ x1, data = dataset)\n",
    "summary(lmodel)"
   ]
  },
  {
   "cell_type": "markdown",
   "metadata": {},
   "source": [
    "# Students Exercises"
   ]
  },
  {
   "cell_type": "markdown",
   "metadata": {},
   "source": [
    "1. Use matrix algebra to calulate the OLS coefficients:\n",
    "\\begin{equation*}\n",
    "\\hat{\\beta} = (X'X)^{-1} X'Y.\n",
    "\\end{equation*}\n",
    "\n",
    "\n"
   ]
  },
  {
   "cell_type": "markdown",
   "metadata": {},
   "source": [
    "The following R commands might be useful:\n",
    "- *%*%*: matrix multiplication\n",
    "- *solve()*: calculates the inverse\n",
    "- *t()*: calculates the transposed\n",
    "- *diag(a)*: builds an identity matrix of dimension a\n",
    "- *for (i in c(1:10)) { }*: loops i in { } from 1 to 10"
   ]
  },
  {
   "cell_type": "code",
   "execution_count": null,
   "metadata": {},
   "outputs": [],
   "source": [
    "############## Put your code here ##############\n",
    "\n",
    "# Apply OLS formula\n",
    "\n",
    "\n",
    "#################################################"
   ]
  },
  {
   "cell_type": "markdown",
   "metadata": {},
   "source": [
    "2. Calulate the variance and standard errors of $\\hat{\\beta}_0$ and $\\hat{\\beta}_1$. Use the homoskedastic variance formula\n",
    "\\begin{equation*}\n",
    "Var(\\hat{\\beta}) = \\sigma^2 (X'X)^{-1},\n",
    "\\end{equation*}\n",
    "with $\\displaystyle \\sigma^2 = \\frac{1}{N-2} \\sum_{i=1}^{N} \\hat{u}_i^2$."
   ]
  },
  {
   "cell_type": "code",
   "execution_count": null,
   "metadata": {},
   "outputs": [],
   "source": [
    "############## Put your code here ##############\n",
    "\n",
    "# Calulate the error term\n",
    "\n",
    "# Calculate Sigma-squared with degrees-of-freedom adjustment\n",
    "\n",
    "# Inverse design matrix\n",
    "\n",
    "#################################################"
   ]
  },
  {
   "cell_type": "markdown",
   "metadata": {},
   "source": [
    "3. Calulate the variance and standard errors of $\\hat{\\beta}_0$ and $\\hat{\\beta}_1$, using the heteroskedasticity robust Eicker–Huber–White variance formula\n",
    "\\begin{equation*}\n",
    "Var(\\hat{\\beta}) = (X'X)^{-1} (X' diag(u_1^2, ..., u_N^2) X )(X'X)^{-1}.\n",
    "\\end{equation*}\n",
    "How would you make the degree-of-freedom adjustment?\n"
   ]
  },
  {
   "cell_type": "code",
   "execution_count": null,
   "metadata": {},
   "outputs": [],
   "source": [
    "############## Put your code here ##############\n",
    "\n",
    "# Calulate diagonal matrix of squared error (using a loop)\n",
    "\n",
    "\n",
    "# Variance calulation\n",
    "\n",
    "#################################################"
   ]
  },
  {
   "cell_type": "markdown",
   "metadata": {},
   "source": [
    "4. Bootstrap the variance and standard errors of $\\hat{\\beta}_0$ and $\\hat{\\beta}_1$ (with 9,999 bootstrap replications)."
   ]
  },
  {
   "cell_type": "markdown",
   "metadata": {},
   "source": [
    "Helpful R commands:\n",
    "- *srswr()*: draws random sample with replacement \n",
    "- *rep(x,times=a)*: repeats a times observations in x "
   ]
  },
  {
   "cell_type": "code",
   "execution_count": null,
   "metadata": {},
   "outputs": [],
   "source": [
    "############## Put your code here ##############\n",
    "set.seed(1001)\n",
    "rep = 9999\n",
    "\n",
    "# Loop with boostrap resamples\n",
    "\n",
    "#################################################"
   ]
  },
  {
   "cell_type": "code",
   "execution_count": null,
   "metadata": {},
   "outputs": [],
   "source": []
  }
 ],
 "metadata": {
  "kernelspec": {
   "display_name": "R",
   "language": "R",
   "name": "ir"
  },
  "language_info": {
   "codemirror_mode": "r",
   "file_extension": ".r",
   "mimetype": "text/x-r-source",
   "name": "R",
   "pygments_lexer": "r",
   "version": "3.4.1"
  }
 },
 "nbformat": 4,
 "nbformat_minor": 2
}
