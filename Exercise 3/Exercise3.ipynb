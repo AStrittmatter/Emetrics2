{
 "cells": [
  {
   "cell_type": "markdown",
   "metadata": {},
   "source": [
    "# **Econometrics 2**"
   ]
  },
  {
   "cell_type": "markdown",
   "metadata": {},
   "source": [
    "### PC-Lab Session 3: ML and GMM Estimation"
   ]
  },
  {
   "cell_type": "markdown",
   "metadata": {},
   "source": [
    "**Author:** [Anthony Strittmatter](http://www.anthonystrittmatter.com)"
   ]
  },
  {
   "cell_type": "markdown",
   "metadata": {},
   "source": [
    "We evaluate a voter mobilization experiment. The data contains 473,857 registered eligible voters from Iowa and Michigan. Randomly selected 14,599 electorates received get-out-the-vote phone calls before the 2002 midterm elections, but only 6,088 electorates were available on-call.\n",
    "\n",
    "\n",
    "We investigate the effects of answering the get-out-the-vote (GOTV) call on the probability to vote. We have access to the data set \"*gotv.csv*\". This data contains the following variables:\n",
    "\n",
    "- *vote02*: Voted in 2002\n",
    "- *call*: Received a GOTV call\n",
    "- *contact*: Answered a GOTV call\n",
    "- *vote00*: Voted in 2000\n",
    "- *vote98*: Voted in 1998\n",
    "- *female*: Female dummy\n",
    "- *newreg*: First-time voter\n",
    "- *age*: Age (in years)\n"
   ]
  },
  {
   "cell_type": "markdown",
   "metadata": {},
   "source": [
    "# Preparation of Data and Packages"
   ]
  },
  {
   "cell_type": "markdown",
   "metadata": {},
   "source": [
    "## Load Packages"
   ]
  },
  {
   "cell_type": "code",
   "execution_count": 14,
   "metadata": {},
   "outputs": [
    {
     "name": "stdout",
     "output_type": "stream",
     "text": [
      "[1] \"All packages successfully installed and loaded.\"\n"
     ]
    }
   ],
   "source": [
    "########################  Load Packages  ########################\n",
    "\n",
    "# List of required packages\n",
    "pkgs <- c('psych', 'ggplot2', 'dplyr', 'corrplot', 'gmm', 'sandwich', 'lmtest', 'sem')\n",
    "\n",
    "# Load packages\n",
    "for(pkg in pkgs){\n",
    "    library(pkg, character.only = TRUE)\n",
    "}\n",
    "\n",
    "set.seed(1001) # set starting value for random number generator\n",
    "\n",
    "print('All packages successfully installed and loaded.')"
   ]
  },
  {
   "cell_type": "markdown",
   "metadata": {},
   "source": [
    "## Load Data"
   ]
  },
  {
   "cell_type": "code",
   "execution_count": 2,
   "metadata": {},
   "outputs": [
    {
     "name": "stdout",
     "output_type": "stream",
     "text": [
      "[1] \"Data is loaded.\"\n"
     ]
    }
   ],
   "source": [
    "############## Load Data ##############\n",
    "setwd(\"C:/Users/user/Dropbox/Emetrics2/Exercise 3\")\n",
    "# Load data frame\n",
    "df <- read.csv(\"gotv.csv\",header=TRUE, sep=\",\")\n",
    "\n",
    "# Outcome\n",
    "vote02 <- as.matrix(df[,1])\n",
    "\n",
    "# Called Voter by Phone\n",
    "call <- as.matrix(df[,2])\n",
    "# Reached Voter by Phone\n",
    "contact <- as.matrix(df[,3])\n",
    "\n",
    "# Covariates\n",
    "covariates <- as.matrix(df[,c(4:ncol(df))])\n",
    "\n",
    "print('Data is loaded.')"
   ]
  },
  {
   "cell_type": "markdown",
   "metadata": {},
   "source": [
    "# **Exercises:**"
   ]
  },
  {
   "cell_type": "markdown",
   "metadata": {},
   "source": [
    "## Descriptive Statistics"
   ]
  },
  {
   "cell_type": "markdown",
   "metadata": {},
   "source": [
    "Plot the descriptive statistics of the variables in the data set."
   ]
  },
  {
   "cell_type": "code",
   "execution_count": 3,
   "metadata": {},
   "outputs": [],
   "source": [
    "############## Descriptive Statistics ##############\n",
    "\n",
    "# Use the describe() function\n",
    "\n",
    "\n",
    "#####################################################"
   ]
  },
  {
   "cell_type": "markdown",
   "metadata": {},
   "source": [
    "## Correlation Matrix"
   ]
  },
  {
   "cell_type": "markdown",
   "metadata": {},
   "source": [
    "Report the correlations between the variables in the data set."
   ]
  },
  {
   "cell_type": "code",
   "execution_count": 4,
   "metadata": {},
   "outputs": [],
   "source": [
    "############## Correlation ##############\n",
    "\n",
    "# Use the cor() and corrplot() functions\n",
    "\n",
    "\n",
    "#########################################"
   ]
  },
  {
   "cell_type": "markdown",
   "metadata": {},
   "source": [
    "# Linear OLS Model"
   ]
  },
  {
   "cell_type": "markdown",
   "metadata": {},
   "source": [
    "Estimate the effect of *contact* on *vote02* using an univariate OLS regression. Compute homo- and heteroskedastic standard errors. Interpret the estimated coefficients."
   ]
  },
  {
   "cell_type": "code",
   "execution_count": 5,
   "metadata": {},
   "outputs": [],
   "source": [
    "############## Univariate OLS estimator ##############\n",
    "\n",
    "# Use the lm() and coeftest( ,vcov. = vcovHC) functions\n",
    "\n",
    "\n",
    "######################################################"
   ]
  },
  {
   "cell_type": "markdown",
   "metadata": {},
   "source": [
    "Run a multivariate OLS regression controlling for *vote00*, *vote98*, *female*, *newreg*, and *age*. How does the effect of *contact* on *vote02* change?"
   ]
  },
  {
   "cell_type": "code",
   "execution_count": 6,
   "metadata": {},
   "outputs": [],
   "source": [
    "############## Multivariate OLS estimator ##############\n",
    "\n",
    "\n",
    "########################################################"
   ]
  },
  {
   "cell_type": "markdown",
   "metadata": {},
   "source": [
    "# Maximum Likelihood (ML)"
   ]
  },
  {
   "cell_type": "markdown",
   "metadata": {},
   "source": [
    "## Probit"
   ]
  },
  {
   "cell_type": "markdown",
   "metadata": {},
   "source": [
    "Estimate the effect of *contact* on *vote02* using a Probit model without control variables, considering the latent model\n",
    "\\begin{equation*}\n",
    "vote02^* =\\beta_0+\\beta_1 contact + u.\n",
    "\\end{equation*}"
   ]
  },
  {
   "cell_type": "code",
   "execution_count": 7,
   "metadata": {},
   "outputs": [],
   "source": [
    "############## Probit without Covariates ##############\n",
    "\n",
    "# Use the glm() funstion with family = binomial(link = \"probit\")\n",
    "\n",
    "\n",
    "#######################################################"
   ]
  },
  {
   "cell_type": "markdown",
   "metadata": {},
   "source": [
    "Estimate the average marginal effect\n",
    "\\begin{equation*}\n",
    "AME = \\frac{1}{N} \\sum_{i=1}^{N} ( \\Phi(\\beta_0+\\beta_1) - \\Phi(\\beta_0)).\n",
    "\\end{equation*}\n",
    "How do the results differ from OLS?"
   ]
  },
  {
   "cell_type": "code",
   "execution_count": 8,
   "metadata": {},
   "outputs": [],
   "source": [
    "############## Average Marginal Effects ##############\n",
    "\n",
    "# The function pnorm() returns the cdf of the normal distribution\n",
    "\n",
    "\n",
    "######################################################"
   ]
  },
  {
   "cell_type": "markdown",
   "metadata": {},
   "source": [
    "Estimate a multivariate Probit model and the AME. How do the results differ from OLS?"
   ]
  },
  {
   "cell_type": "code",
   "execution_count": 9,
   "metadata": {},
   "outputs": [],
   "source": [
    "############## Multivariate Probit Model ##############\n",
    "\n",
    "## Probit with Covariates\n",
    "\n",
    "\n",
    "########################################################"
   ]
  },
  {
   "cell_type": "markdown",
   "metadata": {},
   "source": [
    "## Logit"
   ]
  },
  {
   "cell_type": "markdown",
   "metadata": {},
   "source": [
    "Estimate a multivariate Logit model and the AME. How do the results differ from Probit?"
   ]
  },
  {
   "cell_type": "code",
   "execution_count": 10,
   "metadata": {},
   "outputs": [],
   "source": [
    "############## Multivariate Logit Model ##############\n",
    "\n",
    "# The function plogis() returns the cdf of the logistic distribution\n",
    "\n",
    "\n",
    "########################################################"
   ]
  },
  {
   "cell_type": "markdown",
   "metadata": {},
   "source": [
    "# GMM estimator"
   ]
  },
  {
   "cell_type": "markdown",
   "metadata": {},
   "source": [
    "The probability to answer the phone (landline) depends on the probability to be at home, which might be correlated with the probability to vote. For examples, employed electorates might be more difficult to reach by phone. At the same time, they have a lower probability to vote, because the election is on a working day. This would creeate a positive omitted variable bias.\n",
    "\n",
    "\n",
    "To overcome this potential disadvantage, we apply a 2SLS model. The instrument is the randomised *call*. Being called has by definition a positive impact on the probability to answer the call. However, being called is unlikely to affect the probability of voting unless the call is answered.\n",
    "\n",
    "\n",
    "In the first place, investigate the first stage power of the instrument with and without covariates."
   ]
  },
  {
   "cell_type": "code",
   "execution_count": 11,
   "metadata": {},
   "outputs": [],
   "source": [
    "############## First Stage ##############\n",
    "\n",
    "# Univeriate OLS\n",
    "\n",
    "\n",
    "# Multivariate OLS\n",
    "\n",
    "\n",
    "##########################################"
   ]
  },
  {
   "cell_type": "markdown",
   "metadata": {},
   "source": [
    "Replicate the OLS results using the GMM estimator"
   ]
  },
  {
   "cell_type": "code",
   "execution_count": 12,
   "metadata": {},
   "outputs": [],
   "source": [
    "############## GMM estimator ##############\n",
    "\n",
    "# Replicate OLS using the gmm() package\n",
    "\n",
    "############################################"
   ]
  },
  {
   "cell_type": "markdown",
   "metadata": {},
   "source": [
    "Estimate the 2SLS model using the GMM package. What is the policy conclusion?"
   ]
  },
  {
   "cell_type": "code",
   "execution_count": 13,
   "metadata": {},
   "outputs": [],
   "source": [
    "############## 2SLS Estimator ##############\n",
    "\n",
    "\n",
    "#############################################"
   ]
  },
  {
   "cell_type": "code",
   "execution_count": null,
   "metadata": {},
   "outputs": [],
   "source": []
  }
 ],
 "metadata": {
  "kernelspec": {
   "display_name": "R",
   "language": "R",
   "name": "ir"
  },
  "language_info": {
   "codemirror_mode": "r",
   "file_extension": ".r",
   "mimetype": "text/x-r-source",
   "name": "R",
   "pygments_lexer": "r",
   "version": "3.4.1"
  }
 },
 "nbformat": 4,
 "nbformat_minor": 2
}
